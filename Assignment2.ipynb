{
 "cells": [
  {
   "cell_type": "code",
   "execution_count": 1,
   "id": "038ff14d-5fe6-4432-86cb-e2c418754516",
   "metadata": {},
   "outputs": [
    {
     "name": "stdin",
     "output_type": "stream",
     "text": [
      "Enter Your Number:  5\n"
     ]
    },
    {
     "name": "stdout",
     "output_type": "stream",
     "text": [
      "5 is Odd Number\n"
     ]
    }
   ],
   "source": [
    "n = int(input(\"Enter Your Number: \"))\n",
    "print(f\"{n} is Even Number\" if n % 2 == 0 else f\"{n} is Odd Number\")\n"
   ]
  },
  {
   "cell_type": "code",
   "execution_count": 2,
   "id": "22967622-98e5-43c9-986c-449305884a1a",
   "metadata": {},
   "outputs": [
    {
     "name": "stdin",
     "output_type": "stream",
     "text": [
      "Enter Your Number:  24\n"
     ]
    },
    {
     "name": "stdout",
     "output_type": "stream",
     "text": [
      "24 is Even Number\n"
     ]
    }
   ],
   "source": [
    "n = int(input(\"Enter Your Number: \"))\n",
    "print(f\"{n} is Even Number\" if n % 2 == 0 else f\"{n} is Odd Number\")"
   ]
  },
  {
   "cell_type": "code",
   "execution_count": 3,
   "id": "06729698-6637-417e-9752-143773c96099",
   "metadata": {},
   "outputs": [
    {
     "name": "stdin",
     "output_type": "stream",
     "text": [
      "Enter Your Last Range Number 5\n"
     ]
    },
    {
     "name": "stdout",
     "output_type": "stream",
     "text": [
      "The sum of 1 to 5 is 15\n"
     ]
    }
   ],
   "source": [
    "n = int(input(\"Enter Your Last Range Number\"))\n",
    "s=0\n",
    "for i in range(1,n+1):\n",
    "    s+=i\n",
    "print(f\"The sum of 1 to {n} is {s}\")"
   ]
  },
  {
   "cell_type": "code",
   "execution_count": 4,
   "id": "2ab32f39-0222-43a8-a15f-09e33be152d9",
   "metadata": {},
   "outputs": [
    {
     "name": "stdin",
     "output_type": "stream",
     "text": [
      "Enter Your Last Range Number 50\n"
     ]
    },
    {
     "name": "stdout",
     "output_type": "stream",
     "text": [
      "The sum of 1 to 50 is 1275\n"
     ]
    }
   ],
   "source": [
    "n = int(input(\"Enter Your Last Range Number\"))\n",
    "s=0\n",
    "for i in range(1,n+1):\n",
    "    s+=i\n",
    "print(f\"The sum of 1 to {n} is {s}\")"
   ]
  },
  {
   "cell_type": "code",
   "execution_count": null,
   "id": "62df2d0c-6b70-401e-913b-7f4d09d81655",
   "metadata": {},
   "outputs": [],
   "source": []
  }
 ],
 "metadata": {
  "kernelspec": {
   "display_name": "Python [conda env:base] *",
   "language": "python",
   "name": "conda-base-py"
  },
  "language_info": {
   "codemirror_mode": {
    "name": "ipython",
    "version": 3
   },
   "file_extension": ".py",
   "mimetype": "text/x-python",
   "name": "python",
   "nbconvert_exporter": "python",
   "pygments_lexer": "ipython3",
   "version": "3.12.7"
  }
 },
 "nbformat": 4,
 "nbformat_minor": 5
}
